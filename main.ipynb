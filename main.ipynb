{
 "cells": [
  {
   "cell_type": "code",
   "execution_count": 1,
   "metadata": {},
   "outputs": [],
   "source": [
    "#import library\n",
    "import cv2\n",
    "import datetime"
   ]
  },
  {
   "cell_type": "code",
   "execution_count": 2,
   "metadata": {},
   "outputs": [],
   "source": [
    "#Load trained cascade classifier\n",
    "eye_detect=cv2.CascadeClassifier('haarcascade_frontalface_default.xml')\n",
    "smile_cascade=cv2.CascadeClassifier('haarcascade_smile.xml')"
   ]
  },
  {
   "cell_type": "code",
   "execution_count": 3,
   "metadata": {},
   "outputs": [],
   "source": [
    "#start camera/read video\n",
    "cam=cv2.VideoCapture(0)"
   ]
  },
  {
   "cell_type": "code",
   "execution_count": 4,
   "metadata": {},
   "outputs": [],
   "source": [
    "while True:\n",
    "    \n",
    "    \n",
    "    # read frame/image from camera\n",
    "    resp, frame = cam.read()\n",
    "    original_frame = frame.copy()\n",
    "    # no frame the break loop\n",
    "    if resp==0:\n",
    "        break\n",
    "        \n",
    "    #convert color image into grayscale\n",
    "    gray_img = cv2.cvtColor(frame, cv2.COLOR_BGR2GRAY)\n",
    "    \n",
    "    #Detect faces ROI\n",
    "    eyes = eye_detect.detectMultiScale(gray_img,1.3,7)\n",
    "    \n",
    "    #Draw rectangle around the faces\n",
    "    for (x,y,w,h) in eyes:\n",
    "        cv2.rectangle(frame, (x,y), (x+w, y+h), (0,255,255), 3)\n",
    "        face_roi = frame[y:y+h, x:x+h]\n",
    "        gray_roi = gray_img[y:y+h, x:x+h]\n",
    "        smile=smile_cascade.detectMultiScale(gray_roi,1.3,25)\n",
    "        for x1,y1,w1,h1 in smile:\n",
    "            cv2.rectangle(face_roi, (x1,y1),(x1+w1,y1+h1),(0,0,255),2)\n",
    "            time_stamp = datetime.datetime.now().strftime('%Y-%m-%d-%H-%M-%S')\n",
    "            file_name= f'selfie-{time_stamp}.png'\n",
    "            cv2.imwrite(file_name,original_frame)\n",
    "        \n",
    "    #show image\n",
    "    cv2.imshow('Live Eye Detection',frame)\n",
    "    \n",
    "    #wait to close window \n",
    "    if cv2.waitKey(1) & 0xFF == ord('q'):\n",
    "        break\n",
    "        \n",
    "        \n",
    "# release camera\n",
    "\n",
    "cam.release()\n",
    "#close all windows\n",
    "cv2.destroyAllWindows()\n",
    "    "
   ]
  },
  {
   "cell_type": "code",
   "execution_count": null,
   "metadata": {},
   "outputs": [],
   "source": []
  },
  {
   "cell_type": "code",
   "execution_count": null,
   "metadata": {},
   "outputs": [],
   "source": []
  }
 ],
 "metadata": {
  "kernelspec": {
   "display_name": "Python [conda env:opencv_tutorial]",
   "language": "python",
   "name": "conda-env-opencv_tutorial-py"
  },
  "language_info": {
   "codemirror_mode": {
    "name": "ipython",
    "version": 3
   },
   "file_extension": ".py",
   "mimetype": "text/x-python",
   "name": "python",
   "nbconvert_exporter": "python",
   "pygments_lexer": "ipython3",
   "version": "3.7.10"
  }
 },
 "nbformat": 4,
 "nbformat_minor": 2
}
